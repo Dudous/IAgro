{
 "cells": [
  {
   "cell_type": "code",
   "execution_count": null,
   "id": "18ea7514",
   "metadata": {},
   "outputs": [],
   "source": [
    "import matplotlib.pyplot as plt\n",
    "import tensorflow as tf\n",
    "from tensorflow.keras import layers, models\n",
    "from tensorflow.keras.applications import MobileNetV2\n",
    "from tensorflow.keras.applications.mobilenet_v2 import preprocess_input\n",
    "from tensorflow.keras.preprocessing import image_dataset_from_directory"
   ]
  },
  {
   "cell_type": "code",
   "execution_count": null,
   "id": "91b39b64",
   "metadata": {},
   "outputs": [],
   "source": [
    "# === Diretório e parâmetros ===\n",
    "data_dir = r'D:\\Main dataset'\n",
    "img_size = (224, 224)\n",
    "batch_size = 32\n",
    "epochs_finetune = 2\n",
    "total_epochs = 4"
   ]
  },
  {
   "cell_type": "code",
   "execution_count": null,
   "id": "5a4cd91a",
   "metadata": {},
   "outputs": [],
   "source": [
    "# === Data augmentation + normalização ===\n",
    "data_augmentation = tf.keras.Sequential([\n",
    "    layers.RandomFlip('horizontal'),\n",
    "    layers.RandomRotation(0.3),\n",
    "    layers.RandomZoom(0.1),\n",
    "])\n",
    "\n",
    "preprocessing = tf.keras.Sequential([\n",
    "    layers.Rescaling(1./255),  # Normaliza para [0,1]\n",
    "    layers.Lambda(preprocess_input)  # Aplica normalização do MobileNetV2\n",
    "])"
   ]
  },
  {
   "cell_type": "code",
   "execution_count": null,
   "id": "3661f2c7",
   "metadata": {},
   "outputs": [],
   "source": [
    "# === Carregar datasets ===\n",
    "train_ds = image_dataset_from_directory(\n",
    "    data_dir,\n",
    "    validation_split=0.2,\n",
    "    subset='training',\n",
    "    seed=42,\n",
    "    image_size=img_size,\n",
    "    batch_size=batch_size,\n",
    "    label_mode='int'\n",
    ")\n",
    "\n",
    "val_ds = image_dataset_from_directory(\n",
    "    data_dir,\n",
    "    validation_split=0.2,\n",
    "    subset='validation',\n",
    "    seed=42,\n",
    "    image_size=img_size,\n",
    "    batch_size=batch_size,\n",
    "    label_mode='int'\n",
    ")"
   ]
  },
  {
   "cell_type": "code",
   "execution_count": null,
   "id": "7a782067",
   "metadata": {},
   "outputs": [],
   "source": [
    "def process_input(x, y):\n",
    "    x = tf.cast(x, tf.float32)  # garante tipo float32\n",
    "    x = preprocess_input(x)  # inclui reescalonamento e normalização\n",
    "    y = tf.cast(y, tf.float32) / 5.0  # normaliza o rótulo para [0, 1]\n",
    "    return x, y\n",
    "\n",
    "train_ds = train_ds.map(process_input).prefetch(tf.data.AUTOTUNE)\n",
    "val_ds = val_ds.map(process_input).prefetch(tf.data.AUTOTUNE)"
   ]
  },
  {
   "cell_type": "code",
   "execution_count": null,
   "id": "08d7b5c1",
   "metadata": {},
   "outputs": [],
   "source": [
    "# === Base model ===\n",
    "base_model = MobileNetV2(\n",
    "    input_shape=img_size + (3,),\n",
    "    include_top=False,\n",
    "    weights='imagenet')\n",
    "base_model.trainable = False  # congela no começo"
   ]
  },
  {
   "cell_type": "code",
   "execution_count": null,
   "id": "db7c937f",
   "metadata": {},
   "outputs": [],
   "source": [
    "# === Modelo completo ===\n",
    "model = models.Sequential([\n",
    "    data_augmentation,\n",
    "    base_model,\n",
    "    layers.GlobalAveragePooling2D(),\n",
    "    layers.Dropout(0.3),\n",
    "    layers.Dense(128, activation='relu'),\n",
    "    layers.Dense(64, activation='relu'),\n",
    "    layers.Dense(1, activation='linear')  # Previsão contínua\n",
    "])"
   ]
  },
  {
   "cell_type": "code",
   "execution_count": null,
   "id": "16a4f731",
   "metadata": {},
   "outputs": [],
   "source": [
    "model.compile(optimizer='adam', loss='mse', metrics=['mae'])"
   ]
  },
  {
   "cell_type": "code",
   "execution_count": null,
   "id": "fd5aa056",
   "metadata": {},
   "outputs": [],
   "source": [
    "# === Treinar etapa 1: base congelada ===\n",
    "print(\"Treinando com base congelada...\")\n",
    "history = model.fit(train_ds, validation_data=val_ds, epochs=epochs_finetune)\n",
    "\n",
    "# === Fine-tuning: destrava a base ===\n",
    "print(\"Fine-tuning...\")\n",
    "base_model.trainable = True\n",
    "model.compile(optimizer=tf.keras.optimizers.Adam(1e-5), loss='mse', metrics=['mae'])\n",
    "\n",
    "history_finetune = model.fit(\n",
    "    train_ds,\n",
    "    validation_data=val_ds,\n",
    "    epochs=total_epochs - epochs_finetune\n",
    ")\n"
   ]
  },
  {
   "cell_type": "code",
   "execution_count": null,
   "id": "f49b09c3",
   "metadata": {},
   "outputs": [],
   "source": [
    "model.evaluate(val_ds)\n",
    "\n",
    "# Save the trained model\n",
    "model.save(\"image_classifier_model_v2.h5\", save_format='tf')"
   ]
  },
  {
   "cell_type": "code",
   "execution_count": null,
   "id": "a31b2e68",
   "metadata": {},
   "outputs": [],
   "source": [
    "#ARRUMA ISSO AQUI ANTES\n",
    "\n",
    "import matplotlib.pyplot as plt\n",
    "\n",
    "# Plot Loss\n",
    "plt.figure(figsize=(12, 5))\n",
    "\n",
    "plt.subplot(1, 2, 1)\n",
    "plt.plot(history.history['loss'], label='Train Loss')\n",
    "plt.plot(history.history['val_loss'], label='Val Loss')\n",
    "plt.title('Loss over Epochs')\n",
    "plt.xlabel('Epoch')\n",
    "plt.ylabel('Loss')\n",
    "plt.legend()\n",
    "plt.grid(True)\n",
    "\n",
    "\n",
    "# Plot MAE\n",
    "plt.subplot(1, 2, 2)\n",
    "plt.plot(history.history['mae'], label='Train MAE')\n",
    "plt.plot(history.history['val_mae'], label='Val MAE')\n",
    "plt.title('MAE over Epochs')\n",
    "plt.xlabel('Epoch')\n",
    "plt.ylabel('Mean Absolute Error')\n",
    "plt.legend()\n",
    "plt.grid(True)\n",
    "\n",
    "plt.tight_layout()\n",
    "plt.show()"
   ]
  }
 ],
 "metadata": {
  "kernelspec": {
   "display_name": "Python 3",
   "language": "python",
   "name": "python3"
  },
  "language_info": {
   "codemirror_mode": {
    "name": "ipython",
    "version": 3
   },
   "file_extension": ".py",
   "mimetype": "text/x-python",
   "name": "python",
   "nbconvert_exporter": "python",
   "pygments_lexer": "ipython3",
   "version": "3.11.0"
  }
 },
 "nbformat": 4,
 "nbformat_minor": 5
}
